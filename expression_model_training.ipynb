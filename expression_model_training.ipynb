{
  "cells": [
    {
      "cell_type": "markdown",
      "metadata": {
        "id": "hBb6HWYZoho0"
      },
      "source": [
        "### 0. Installing Dependencies for YOLOv6"
      ]
    },
    {
      "cell_type": "code",
      "execution_count": null,
      "metadata": {
        "id": "KJj4OoYMoho1"
      },
      "outputs": [],
      "source": [
        "!pip install -r /notebooks/requirements.txt\n",
        "!pip install onnxruntime pillow configparser opencv-python gradio roboflow tensorboard\n",
        "!wget https://huggingface.co/AICademyHK/YOLOv6s/resolve/main/yolov6s.onnx -O /notebooks/yolov6s.onnx\n",
        "!mkdir /notebooks/weights\n",
        "!wget https://github.com/meituan/YOLOv6/releases/download/0.3.0/yolov6s.pt -O /notebooks/weights/yolov6s.pt"
      ]
    },
    {
      "cell_type": "markdown",
      "metadata": {
        "id": "hrqT_ZXHoho2"
      },
      "source": [
        "### 1. Downloading the dataset, renaming the folders for YOLOv6 Training"
      ]
    },
    {
      "cell_type": "code",
      "execution_count": null,
      "metadata": {
        "id": "JKhJsiK9oho2"
      },
      "outputs": [],
      "source": [
        "!cd /notebooks\n",
        "\n",
        "!pip install roboflow\n",
        "from roboflow import Roboflow\n",
        "rf = Roboflow(api_key=\"Uyxx7cbmYWcqWg74unuj\")\n",
        "project = rf.workspace(\"workshop-yg2yt\").project(\"expression-abyan\")\n",
        "version = project.version(1)\n",
        "dataset = version.download(\"mt-yolov6\")\n",
        "\n",
        "\n",
        "!mv /notebooks/Expression-1/images/valid /notebooks/Expression-1/images/val\n",
        "!mv /notebooks/Expression-1/labels/valid /notebooks/Expression-1/labels/val"
      ]
    },
    {
      "cell_type": "markdown",
      "metadata": {
        "id": "6_Mm3R0_oho3"
      },
      "source": [
        "### 2. Setup the dataset.yaml\n",
        "\n",
        "--COPY and PASTE the following into /notebooks/data/dataset.yaml --\n",
        "\n",
        "```\n",
        "# Please ensure that your custom_dataset are put in same parent dir with YOLOv6_DIR\n",
        "train: /notebooks/Expression-1/images/train # train images\n",
        "val: /notebooks/Expression-1/images/val # val images\n",
        "test: /notebooks/Expression-1/images/test # test images (optional)\n",
        "\n",
        "# whether it is coco dataset, only coco dataset should be set to True.\n",
        "is_coco: False\n",
        "# Classes\n",
        "nc: 6  # number of classes\n",
        "names: [\n",
        "    \"anger\",\n",
        "    \"fear\",\n",
        "    \"happy\",\n",
        "    \"neutral\",\n",
        "    \"sad\",\n",
        "    \"surprise\"\n",
        "]  # class names\n",
        "```"
      ]
    },
    {
      "cell_type": "code",
      "execution_count": null,
      "metadata": {
        "id": "fWGugi--oho3"
      },
      "outputs": [],
      "source": []
    },
    {
      "cell_type": "markdown",
      "metadata": {
        "id": "zDJMxRsboho3"
      },
      "source": [
        "### 3. Readying for the training\n",
        "\n",
        "Deciding on the parameters\n",
        "Key Parameters to Tune:\n",
        "- `batch_size`: Number of images the model sees before updating the learning parameters.\n",
        "- `epochs`: How many times the model will go through the entire dataset.\n",
        "- `img_size`: Size to which all the images are resized.\n",
        "\n",
        "\n",
        "The following command trains the chess dataset on a yolov6n nano model"
      ]
    },
    {
      "cell_type": "code",
      "execution_count": null,
      "metadata": {
        "id": "DvVnR9cmoho4"
      },
      "outputs": [],
      "source": [
        "!python tools/train.py --batch 32 --epochs 100 --img-size 640 --data data/dataset.yaml --device 0 --name expression_model"
      ]
    },
    {
      "cell_type": "markdown",
      "metadata": {
        "id": "xTcyufdFoho4"
      },
      "source": [
        "### 4. Evaluate the model"
      ]
    },
    {
      "cell_type": "code",
      "execution_count": null,
      "metadata": {
        "id": "BiUf0Vt5oho4"
      },
      "outputs": [],
      "source": [
        "!python tools/eval.py --data data/dataset.yaml --batch 32 --weights /notebooks/runs/train/expression_model/weights/best_ckpt.pt --img-size 640 --task val --do_pr_metric True --plot_confusion_matrix"
      ]
    },
    {
      "cell_type": "markdown",
      "metadata": {
        "id": "Sq2DDmddoho4"
      },
      "source": [
        "### 5. Checking the performance of the model"
      ]
    },
    {
      "cell_type": "code",
      "execution_count": null,
      "metadata": {
        "id": "yEV9g3UJoho5"
      },
      "outputs": [],
      "source": []
    }
  ],
  "metadata": {
    "language_info": {
      "name": "python"
    },
    "colab": {
      "provenance": []
    }
  },
  "nbformat": 4,
  "nbformat_minor": 0
}

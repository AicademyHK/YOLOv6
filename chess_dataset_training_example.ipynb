{
 "cells": [
  {
   "cell_type": "markdown",
   "metadata": {},
   "source": [
    "### 0. Installing Dependencies for YOLOv6"
   ]
  },
  {
   "cell_type": "code",
   "execution_count": null,
   "metadata": {},
   "outputs": [],
   "source": [
    "!pip install -r /notebooks/requirements.txt\n",
    "!pip install onnxruntime pillow configparser opencv-python gradio roboflow tensorboard\n",
    "!wget https://huggingface.co/AICademyHK/YOLOv6s/resolve/main/yolov6s.onnx -O /notebooks/yolov6s.onnx\n",
    "!mkdir /notebooks/weights\n",
    "!wget https://github.com/meituan/YOLOv6/releases/download/0.3.0/yolov6s.pt -O /notebooks/weights/yolov6s.pt"
   ]
  },
  {
   "cell_type": "markdown",
   "metadata": {},
   "source": [
    "### 1. Downloading the dataset, renaming the folders for YOLOv6 Training"
   ]
  },
  {
   "cell_type": "code",
   "execution_count": null,
   "metadata": {},
   "outputs": [],
   "source": [
    "!cd /notebooks\n",
    "\n",
    "from roboflow import Roboflow\n",
    "rf = Roboflow(api_key=\"Uyxx7cbmYWcqWg74unuj\")\n",
    "project = rf.workspace(\"joseph-nelson\").project(\"chess-pieces-new\")\n",
    "version = project.version(24)\n",
    "dataset = version.download(\"mt-yolov6\")\n",
    "\n",
    "\n",
    "!mv /notebooks/Chess-Pieces-24/images/valid /notebooks/Chess-Pieces-24/images/val\n",
    "!mv /notebooks/Chess-Pieces-24/labels/valid /notebooks/Chess-Pieces-24/labels/val"
   ]
  },
  {
   "cell_type": "markdown",
   "metadata": {},
   "source": [
    "### 2. Setup the dataset.yaml\n",
    "\n",
    "--COPY and PASTE the following into /notebooks/data/dataset.yaml --\n",
    "\n",
    "```\n",
    "# Please ensure that your custom_dataset are put in same parent dir with YOLOv6_DIR\n",
    "train: /notebooks/Chess-Pieces-24/images/train # train images\n",
    "val: /notebooks/Chess-Pieces-24/images/val # val images\n",
    "test: /notebooks/Chess-Pieces-24/images/test # test images (optional)\n",
    "\n",
    "# whether it is coco dataset, only coco dataset should be set to True.\n",
    "is_coco: False\n",
    "# Classes\n",
    "nc: 13  # number of classes\n",
    "names: [\n",
    "    \"bishop\",\n",
    "    \"black-bishop\",\n",
    "    \"black-king\",\n",
    "    \"black-knight\",\n",
    "    \"black-pawn\",\n",
    "    \"black-queen\",\n",
    "    \"black-rook\",\n",
    "    \"white-bishop\",\n",
    "    \"white-king\",\n",
    "    \"white-knight\",\n",
    "    \"white-pawn\",\n",
    "    \"white-queen\",\n",
    "    \"white-rook\"\n",
    "]  # class names\n",
    "```"
   ]
  },
  {
   "cell_type": "code",
   "execution_count": null,
   "metadata": {},
   "outputs": [],
   "source": []
  },
  {
   "cell_type": "markdown",
   "metadata": {},
   "source": [
    "### 3. Readying for the training\n",
    "\n",
    "Deciding on the parameters\n",
    "Key Parameters to Tune:\n",
    "- `batch_size`: Number of images the model sees before updating the learning parameters.\n",
    "- `epochs`: How many times the model will go through the entire dataset.\n",
    "- `img_size`: Size to which all the images are resized.\n",
    "\n",
    "\n",
    "The following command trains the chess dataset on a yolov6n nano model"
   ]
  },
  {
   "cell_type": "code",
   "execution_count": null,
   "metadata": {},
   "outputs": [],
   "source": [
    "!python tools/train.py --batch 16 --epochs 50 --img-size 416 --data data/dataset.yaml --device 0 --name tutorial"
   ]
  },
  {
   "cell_type": "markdown",
   "metadata": {},
   "source": [
    "### 4. Evaluate the model "
   ]
  },
  {
   "cell_type": "code",
   "execution_count": null,
   "metadata": {},
   "outputs": [],
   "source": [
    "!python tools/eval.py --data data/dataset.yaml --batch 16 --weights /notebooks/runs/train/tutorial/weights/best_ckpt.pt --img-size 416 --task val --do_pr_metric True --plot_confusion_matrix"
   ]
  },
  {
   "cell_type": "markdown",
   "metadata": {},
   "source": [
    "### 5. Checking the performance of the model"
   ]
  },
  {
   "cell_type": "code",
   "execution_count": null,
   "metadata": {},
   "outputs": [],
   "source": []
  }
 ],
 "metadata": {
  "language_info": {
   "name": "python"
  }
 },
 "nbformat": 4,
 "nbformat_minor": 2
}

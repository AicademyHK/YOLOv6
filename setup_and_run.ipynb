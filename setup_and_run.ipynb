{
  "nbformat": 4,
  "nbformat_minor": 0,
  "metadata": {
    "colab": {
      "provenance": []
    },
    "kernelspec": {
      "name": "python3",
      "display_name": "Python 3"
    },
    "language_info": {
      "name": "python"
    }
  },
  "cells": [
    {
      "cell_type": "code",
      "execution_count": null,
      "metadata": {
        "id": "MV6J_vkWHL1c"
      },
      "outputs": [],
      "source": [
        "!mkdir -p /notebooks/YOLOv6\n",
        "!git clone https://github.com/AicademyHK/YOLOv6\n",
        "!cd /notebooks/YOLOv6\n",
        "!pip install -r /notebooks/YOLOv6/requirements.txt\n",
        "!pip install onnxruntime pillow configparser opencv-python gradio\n",
        "!wget https://huggingface.co/AICademyHK/YOLOv6s/resolve/main/yolov6s.onnx -O /notebooks/YOLOv6/yolov6s.onnx\n"
      ]
    },
    {
      "cell_type": "code",
      "source": [
        "!cd /notebooks/YOLOv6/yolo-ui\n",
        "!python launch.py"
      ],
      "metadata": {
        "id": "fp-LEJ4yHtVD"
      },
      "execution_count": null,
      "outputs": []
    }
  ]
}